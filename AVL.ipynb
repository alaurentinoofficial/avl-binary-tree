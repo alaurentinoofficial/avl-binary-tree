{
 "cells": [
  {
   "cell_type": "code",
   "execution_count": 118,
   "metadata": {},
   "outputs": [],
   "source": [
    "class Node:\n",
    "    def __init__(self, key, value, top=None, left=None, right=None):\n",
    "        self.key = key\n",
    "        self.value = value\n",
    "        self.top = top\n",
    "        self.left = left\n",
    "        self.right = right\n",
    "    \n",
    "    @property\n",
    "    def isempty(self):\n",
    "        return self.left == None and self.right == None"
   ]
  },
  {
   "cell_type": "code",
   "execution_count": 119,
   "metadata": {},
   "outputs": [],
   "source": [
    "class BinaryTree:\n",
    "    def __init__(self):\n",
    "        self._root = None\n",
    "        self._count = 0\n",
    "    \n",
    "    def __bool__(self):\n",
    "        return not self._root == None\n",
    "    \n",
    "    def search(self, key):\n",
    "        actual = self._root\n",
    "        \n",
    "        while(actual != None):\n",
    "            \n",
    "            if key < actual.key:\n",
    "                actual = actual.left\n",
    "            elif key > actual.key:\n",
    "                actual = actual.right\n",
    "            else:\n",
    "                return actual\n",
    "    \n",
    "        raise ValueError(\"Index out exception!\")\n",
    "    \n",
    "    def append(self, value, node=None):\n",
    "        key = self._count\n",
    "        \n",
    "        if self._root == None:\n",
    "            self._root = Node(key, value, top=None)\n",
    "            self._count += 1\n",
    "            return\n",
    "        \n",
    "        if node == None:\n",
    "            node = self._root\n",
    "        \n",
    "        if (key < node.key):\n",
    "            if (node.left != None):\n",
    "                self.append(value, node.left)\n",
    "            else:\n",
    "                node.left = Node(key, value, top=Node)\n",
    "                self._count += 1\n",
    "        else:\n",
    "            if (node.right != None):\n",
    "                self.append(value, node.right)\n",
    "            else:\n",
    "                node.right = Node(key, value, top=Node)\n",
    "                self._count += 1\n",
    "    \n",
    "    def __getitem__(self, key):\n",
    "        return self.search(key).value\n",
    "    \n",
    "    def __setitem__(self, key, value):\n",
    "        item = self.search(key)\n",
    "        item.value = value\n",
    "    \n",
    "    def __delitem__(self, key):\n",
    "        item = self.search(key)\n",
    "        \n",
    "        if item.isempty:\n",
    "            return\n",
    "        \n",
    "        result = None\n",
    "        \n",
    "        # Case just one side are filled\n",
    "        if item.left == None and item.right != None:\n",
    "            result == item.right\n",
    "        elif item.left != None and item.right == None:\n",
    "            result = item.left\n",
    "        \n",
    "        # Fix in top\n",
    "        if item == item.top.left:\n",
    "            item.top.left = result\n",
    "            return\n",
    "        else:\n",
    "            item.top.right = result\n",
    "            return\n",
    "        \n",
    "        return\n",
    "    \n",
    "    def next_item(self, item):\n",
    "        if item.right != None:\n",
    "            actual = item.right\n",
    "            while(actual.left != None):\n",
    "                actual = actual.left\n",
    "            \n",
    "            return actual\n",
    "        \n",
    "        return item.top"
   ]
  },
  {
   "cell_type": "code",
   "execution_count": 122,
   "metadata": {},
   "outputs": [
    {
     "name": "stdout",
     "output_type": "stream",
     "text": [
      "5\n",
      "200\n"
     ]
    },
    {
     "data": {
      "text/plain": [
       "__main__.Node"
      ]
     },
     "execution_count": 122,
     "metadata": {},
     "output_type": "execute_result"
    }
   ],
   "source": [
    "tree = BinaryTree()\n",
    "\n",
    "tree.append(10)\n",
    "tree.append(20)\n",
    "tree.append(5)\n",
    "\n",
    "print(tree[2])\n",
    "tree[2] = 200\n",
    "print(tree[2])\n",
    "\n",
    "\n",
    "item = tree.search(2)\n",
    "tree.next_item(item)"
   ]
  },
  {
   "cell_type": "code",
   "execution_count": null,
   "metadata": {},
   "outputs": [],
   "source": []
  }
 ],
 "metadata": {
  "kernelspec": {
   "display_name": "Python 3",
   "language": "python",
   "name": "python3"
  },
  "language_info": {
   "codemirror_mode": {
    "name": "ipython",
    "version": 3
   },
   "file_extension": ".py",
   "mimetype": "text/x-python",
   "name": "python",
   "nbconvert_exporter": "python",
   "pygments_lexer": "ipython3",
   "version": "3.6.5"
  }
 },
 "nbformat": 4,
 "nbformat_minor": 2
}
